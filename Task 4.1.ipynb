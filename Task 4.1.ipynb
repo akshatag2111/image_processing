{
 "cells": [
  {
   "cell_type": "code",
   "execution_count": 1,
   "metadata": {},
   "outputs": [],
   "source": [
    "#task 4.1\n",
    "#creating image..."
   ]
  },
  {
   "cell_type": "code",
   "execution_count": 1,
   "metadata": {},
   "outputs": [],
   "source": [
    "import cv2\n",
    "import numpy as np\n"
   ]
  },
  {
   "cell_type": "code",
   "execution_count": null,
   "metadata": {},
   "outputs": [],
   "source": [
    "b = np.zeros((900,900,3))\n",
    "\n",
    "bCircle=cv2.circle(b, (450,450), 250, [0,255,255], -1)\n",
    "\n",
    "eye1=cv2.circle(b, (360,370), 50, [0,0,0],-1)\n",
    "eye2=cv2.circle(b, (520,370), 50, [0,0,0],-1)\n",
    "iris1=cv2.circle(b, (375,340), 15, [1,1,1],-1)\n",
    "iris2=cv2.circle(b, (535,340), 15, [1,1,1],-1)\n",
    "\n",
    "line = cv2.line(b, (360,530), (520,530), [0,0,0], 5)\n",
    "\n",
    "cv2.imshow('pic2',bCircle)\n",
    "cv2.waitKey()\n",
    "cv2.destroyAllWindows()"
   ]
  },
  {
   "cell_type": "code",
   "execution_count": null,
   "metadata": {},
   "outputs": [],
   "source": []
  }
 ],
 "metadata": {
  "kernelspec": {
   "display_name": "Python 3",
   "language": "python",
   "name": "python3"
  },
  "language_info": {
   "codemirror_mode": {
    "name": "ipython",
    "version": 3
   },
   "file_extension": ".py",
   "mimetype": "text/x-python",
   "name": "python",
   "nbconvert_exporter": "python",
   "pygments_lexer": "ipython3",
   "version": "3.8.3"
  }
 },
 "nbformat": 4,
 "nbformat_minor": 4
}
